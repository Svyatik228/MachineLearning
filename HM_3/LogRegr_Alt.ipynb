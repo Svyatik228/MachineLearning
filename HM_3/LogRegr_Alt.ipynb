{
 "cells": [
  {
   "cell_type": "code",
   "execution_count": 1,
   "metadata": {},
   "outputs": [],
   "source": [
    "import numpy as np\n",
    "import pandas as pd\n",
    "from sklearn.model_selection import train_test_split\n",
    "from mpl_toolkits.mplot3d import Axes3D\n",
    "import matplotlib.pyplot as plt\n",
    "\n",
    "from matplotlib.colors import ListedColormap\n",
    "cm_bright = ListedColormap(['#FF0000', '#0000FF'])\n",
    "%matplotlib inline"
   ]
  },
  {
   "cell_type": "code",
   "execution_count": 2,
   "metadata": {},
   "outputs": [],
   "source": [
    "def normalize(X):\n",
    "    n = X.shape[0]\n",
    "    mean = np.mean(X, axis=1).reshape((n, 1))\n",
    "    std = np.std(X, axis=1).reshape((n, 1))\n",
    "    X_new = (X - mean) / std**2\n",
    "    return X_new, mean, std"
   ]
  },
  {
   "cell_type": "code",
   "execution_count": 3,
   "metadata": {},
   "outputs": [],
   "source": [
    "def sigmoid(Z):\n",
    "    return 1 / (1 + np.exp(-Z))"
   ]
  },
  {
   "cell_type": "code",
   "execution_count": 4,
   "metadata": {},
   "outputs": [],
   "source": [
    "def plot_data(X, y):\n",
    "    ax = plt.gca()\n",
    "    ax.scatter(X[:,0], X[:,1], c=(y == 1), cmap=cm_bright)"
   ]
  },
  {
   "cell_type": "code",
   "execution_count": 5,
   "metadata": {},
   "outputs": [],
   "source": [
    "def fwd_pass(X, params):\n",
    "    W = params[\"W\"]\n",
    "    b = params[\"b\"]\n",
    "    \n",
    "    Z = np.dot(W, X) + b\n",
    "    A = sigmoid(Z)\n",
    "    \n",
    "    cache = (W, b, Z, A)\n",
    "    \n",
    "    return A, cache"
   ]
  },
  {
   "cell_type": "code",
   "execution_count": 6,
   "metadata": {},
   "outputs": [],
   "source": [
    "def cost(A, Y):\n",
    "    m = Y.shape[1]\n",
    "    \n",
    "    L = - Y * np.log(A) - (1 - Y) * np.log(1 - A)\n",
    "    J = np.sum(L) / m\n",
    "    \n",
    "    return J"
   ]
  },
  {
   "cell_type": "code",
   "execution_count": 7,
   "metadata": {},
   "outputs": [],
   "source": [
    "def bwd_pass(X, Y, cache):\n",
    "    n, m = X.shape\n",
    "    (W, b, Z, A) = cache\n",
    "    \n",
    "    dZ = A - Y\n",
    "    dW = 1. / m * np.dot(X, dZ.T).reshape((1, n))\n",
    "    db = 1. / m * np.sum(dZ)\n",
    "    \n",
    "    grads = {\"dW\" : dW, \"db\" : db, \"dZ\" : dZ}\n",
    "    return grads"
   ]
  },
  {
   "cell_type": "code",
   "execution_count": 8,
   "metadata": {},
   "outputs": [],
   "source": [
    "def init_params(n, m):\n",
    "    W = np.random.randn(1, n) * 0.01\n",
    "    b = 0\n",
    "    \n",
    "    params = {\"W\" : W, \"b\" : b}\n",
    "    return params"
   ]
  },
  {
   "cell_type": "code",
   "execution_count": 9,
   "metadata": {},
   "outputs": [],
   "source": [
    "def update_params(params, grads, learning_rate):\n",
    "    W = params[\"W\"]\n",
    "    b = params[\"b\"]\n",
    "    \n",
    "    dW = grads[\"dW\"]\n",
    "    db = grads[\"db\"]\n",
    "    \n",
    "    params[\"W\"] = W - learning_rate * dW\n",
    "    params[\"b\"] = b - learning_rate * db\n",
    "    \n",
    "    return params"
   ]
  },
  {
   "cell_type": "code",
   "execution_count": 10,
   "metadata": {},
   "outputs": [],
   "source": [
    "def fit(X, Y, learning_rate = 0.01, num_iter = 30000, debug = False):\n",
    "    n, m = X.shape \n",
    "    params = init_params(n, m)\n",
    "    costs = []\n",
    "    for i in range(num_iter):\n",
    "        A, cache = fwd_pass(X, params)\n",
    "        curr_cost = cost(A, Y)\n",
    "        grads = bwd_pass(X, Y, cache)\n",
    "        \n",
    "        params = update_params(params, grads, learning_rate)\n",
    "        \n",
    "        if debug and i % 10 == 0:\n",
    "            print(\"{}-th iteration: {}\".format(i, curr_cost))\n",
    "            costs.append(curr_cost)\n",
    "    \n",
    "    plt.plot(costs)\n",
    "    plt.ylabel(\"Cost\")\n",
    "    plt.xlabel(\"Iteration, *10\")\n",
    "    plt.show()\n",
    "    \n",
    "    return params    "
   ]
  },
  {
   "cell_type": "code",
   "execution_count": 11,
   "metadata": {},
   "outputs": [
    {
     "name": "stdout",
     "output_type": "stream",
     "text": [
      "Training set: X=(100, 2), y=(100,)\n"
     ]
    }
   ],
   "source": [
    "data_columns = [\"exam1\", \"exam2\"]\n",
    "target_column = \"submitted\"\n",
    "df = pd.read_csv(\"sats.csv\")\n",
    "X, Y = df[data_columns].values, df[target_column]\n",
    "print('Training set: X={}, y={}'.format(X.shape, Y.shape))"
   ]
  },
  {
   "cell_type": "code",
   "execution_count": 12,
   "metadata": {},
   "outputs": [
    {
     "name": "stdout",
     "output_type": "stream",
     "text": [
      "Training set: X=(118, 2), y=(118,)\n"
     ]
    }
   ],
   "source": [
    "data_columns = [\"test1\", \"test2\"]\n",
    "target_column = \"passed\"\n",
    "df = pd.read_csv(\"tests.csv\")\n",
    "X, Y = df[data_columns].values, df[target_column]\n",
    "print('Training set: X={}, y={}'.format(X.shape, Y.shape))"
   ]
  },
  {
   "cell_type": "code",
   "execution_count": 13,
   "metadata": {},
   "outputs": [
    {
     "name": "stdout",
     "output_type": "stream",
     "text": [
      "Training set: X=(118, 7), y=(118,)\n"
     ]
    }
   ],
   "source": [
    "data_columns = [\"test1\", \"test2\", \"test1test1\", \"test2test2\", \"test1test2\", \"test1test1test1\", \"test2test2test2\"]\n",
    "target_column = \"passed\"\n",
    "df = pd.read_csv(\"testsCom.csv\")\n",
    "X, Y = df[data_columns].values, df[target_column]\n",
    "print('Training set: X={}, y={}'.format(X.shape, Y.shape))"
   ]
  },
  {
   "cell_type": "code",
   "execution_count": 14,
   "metadata": {},
   "outputs": [
    {
     "data": {
      "image/png": "[encoded data removed]",
      "text/plain": [
       "<Figure size 432x288 with 1 Axes>"
      ]
     },
     "metadata": {
      "needs_background": "light"
     },
     "output_type": "display_data"
    }
   ],
   "source": [
    "plot_data(X, Y)"
   ]
  },
  {
   "cell_type": "code",
   "execution_count": 15,
   "metadata": {},
   "outputs": [],
   "source": [
    "Y = Y.values.reshape((df.shape[0], 1))"
   ]
  },
  {
   "cell_type": "code",
   "execution_count": 16,
   "metadata": {},
   "outputs": [],
   "source": [
    "X, Y = X.T, Y.T"
   ]
  },
  {
   "cell_type": "code",
   "execution_count": 17,
   "metadata": {},
   "outputs": [],
   "source": [
    "X, mean, std = normalize(X)"
   ]
  },
  {
   "cell_type": "code",
   "execution_count": 18,
   "metadata": {},
   "outputs": [
    {
     "data": {
      "text/plain": [
       "array([[-0.60317345, -0.01435925, -1.09777917, -1.75725074, -2.32251793],\n",
       "       [ 1.87362608,  1.92821021,  1.90091814,  1.19132449,  1.05486417],\n",
       "       [-3.90194657, -3.99946939, -3.29665705, -1.74627385,  0.25880084],\n",
       "       [ 2.0899842 ,  2.34213524,  2.21539406, -0.61258054, -1.05324385],\n",
       "       [-0.76431824,  1.23204463, -2.46000243, -3.2711155 , -4.28888063],\n",
       "       [-0.81067086, -0.79820379, -0.93050954, -1.50509379, -2.60774817],\n",
       "       [ 1.69714712,  1.89645037,  1.79574649, -0.1488716 , -0.39246017]])"
      ]
     },
     "execution_count": 18,
     "metadata": {},
     "output_type": "execute_result"
    }
   ],
   "source": [
    "X[:,:5]"
   ]
  },
  {
   "cell_type": "code",
   "execution_count": 19,
   "metadata": {},
   "outputs": [
    {
     "data": {
      "text/plain": [
       "(1, 118)"
      ]
     },
     "execution_count": 19,
     "metadata": {},
     "output_type": "execute_result"
    }
   ],
   "source": [
    "Y.shape"
   ]
  },
  {
   "cell_type": "code",
   "execution_count": 20,
   "metadata": {},
   "outputs": [
    {
     "data": {
      "text/plain": [
       "array([[ 0.05477891],\n",
       "       [ 0.18310156],\n",
       "       [ 0.24757534],\n",
       "       [ 0.30136961],\n",
       "       [-0.02547184],\n",
       "       [ 0.05983333],\n",
       "       [ 0.14235001]])"
      ]
     },
     "execution_count": 20,
     "metadata": {},
     "output_type": "execute_result"
    }
   ],
   "source": [
    "mean"
   ]
  },
  {
   "cell_type": "code",
   "execution_count": 21,
   "metadata": {},
   "outputs": [
    {
     "data": {
      "text/plain": [
       "array([[0.49454485],\n",
       "       [0.51753592],\n",
       "       [0.24747703],\n",
       "       [0.28332819],\n",
       "       [0.22312342],\n",
       "       [0.27347972],\n",
       "       [0.32474925]])"
      ]
     },
     "execution_count": 21,
     "metadata": {},
     "output_type": "execute_result"
    }
   ],
   "source": [
    "std"
   ]
  },
  {
   "cell_type": "code",
   "execution_count": 22,
   "metadata": {},
   "outputs": [
    {
     "name": "stdout",
     "output_type": "stream",
     "text": [
      "0-th iteration: 0.6980470699163794\n",
      "10-th iteration: 0.4829424154138964\n",
      "20-th iteration: 0.43506008933852985\n",
      "30-th iteration: 0.41077452000599046\n",
      "40-th iteration: 0.3962564231612661\n",
      "50-th iteration: 0.3865962804359503\n",
      "60-th iteration: 0.37967997330765696\n",
      "70-th iteration: 0.3744652491433477\n",
      "80-th iteration: 0.370382680545376\n",
      "90-th iteration: 0.36709547707484186\n",
      "100-th iteration: 0.3643915123514619\n",
      "110-th iteration: 0.3621301684974411\n",
      "120-th iteration: 0.3602141876372587\n",
      "130-th iteration: 0.35857385138211867\n",
      "140-th iteration: 0.3571576374286868\n",
      "150-th iteration: 0.35592646466884253\n",
      "160-th iteration: 0.3548500176704938\n",
      "170-th iteration: 0.35390432334537525\n",
      "180-th iteration: 0.3530701073720214\n",
      "190-th iteration: 0.3523316507526891\n",
      "200-th iteration: 0.3516759757434023\n",
      "210-th iteration: 0.3510922539432813\n",
      "220-th iteration: 0.3505713675343688\n",
      "230-th iteration: 0.35010557824363914\n",
      "240-th iteration: 0.349688273500473\n",
      "250-th iteration: 0.34931376888340243\n",
      "260-th iteration: 0.34897715228350396\n",
      "270-th iteration: 0.34867415945719127\n",
      "280-th iteration: 0.3484010735347991\n",
      "290-th iteration: 0.3481546430547679\n",
      "300-th iteration: 0.3479320145009239\n",
      "310-th iteration: 0.34773067632338595\n",
      "320-th iteration: 0.3475484121479394\n",
      "330-th iteration: 0.34738326140845843\n",
      "340-th iteration: 0.34723348602916104\n",
      "350-th iteration: 0.3470975420772855\n",
      "360-th iteration: 0.34697405552934263\n",
      "370-th iteration: 0.3468618014645266\n",
      "380-th iteration: 0.3467596861307078\n",
      "390-th iteration: 0.34666673143142107\n",
      "400-th iteration: 0.34658206146345866\n",
      "410-th iteration: 0.3465048907992458\n",
      "420-th iteration: 0.34643451425994465\n",
      "430-th iteration: 0.34637029796705454\n",
      "440-th iteration: 0.34631167149430025\n",
      "450-th iteration: 0.3462581209694711\n",
      "460-th iteration: 0.34620918299882875\n",
      "470-th iteration: 0.34616443930573226\n",
      "480-th iteration: 0.3461235119909743\n",
      "490-th iteration: 0.34608605933558895\n",
      "500-th iteration: 0.346051772078038\n",
      "510-th iteration: 0.34602037010709785\n",
      "520-th iteration: 0.34599159951974323\n",
      "530-th iteration: 0.34596523000010276\n",
      "540-th iteration: 0.34594105248134766\n",
      "550-th iteration: 0.345918877057324\n",
      "560-th iteration: 0.34589853111498053\n",
      "570-th iteration: 0.34587985766230417\n",
      "580-th iteration: 0.3458627138296171\n",
      "590-th iteration: 0.3458469695248227\n",
      "600-th iteration: 0.3458325062255339\n",
      "610-th iteration: 0.34581921589307857\n",
      "620-th iteration: 0.34580699999514597\n",
      "630-th iteration: 0.34579576862540184\n",
      "640-th iteration: 0.3457854397097435\n",
      "650-th iteration: 0.34577593829006253\n",
      "660-th iteration: 0.34576719587741067\n",
      "670-th iteration: 0.34575914986738654\n",
      "680-th iteration: 0.34575174301134814\n",
      "690-th iteration: 0.3457449229377737\n",
      "700-th iteration: 0.3457386417187042\n",
      "710-th iteration: 0.34573285547675275\n",
      "720-th iteration: 0.34572752402865353\n",
      "730-th iteration: 0.34572261056174164\n",
      "740-th iteration: 0.3457180813401467\n",
      "750-th iteration: 0.3457139054378094\n",
      "760-th iteration: 0.34571005449573505\n",
      "770-th iteration: 0.3457065025011638\n",
      "780-th iteration: 0.34570322558656813\n",
      "790-th iteration: 0.34570020184660794\n",
      "800-th iteration: 0.3456974111713531\n",
      "810-th iteration: 0.34569483509425747\n",
      "820-th iteration: 0.34569245665351295\n",
      "830-th iteration: 0.3456902602655539\n",
      "840-th iteration: 0.3456882316095931\n",
      "850-th iteration: 0.3456863575221858\n",
      "860-th iteration: 0.3456846259009123\n",
      "870-th iteration: 0.3456830256163558\n",
      "880-th iteration: 0.3456815464316309\n",
      "890-th iteration: 0.3456801789287889\n",
      "900-th iteration: 0.34567891444148857\n",
      "910-th iteration: 0.34567774499337767\n",
      "920-th iteration: 0.34567666324168356\n",
      "930-th iteration: 0.34567566242555403\n",
      "940-th iteration: 0.3456747363187367\n",
      "950-th iteration: 0.3456738791862173\n",
      "960-th iteration: 0.34567308574447597\n",
      "970-th iteration: 0.3456723511250473\n",
      "980-th iteration: 0.34567167084110373\n",
      "990-th iteration: 0.34567104075680044\n",
      "1000-th iteration: 0.3456704570591482\n",
      "1010-th iteration: 0.34566991623219745\n",
      "1020-th iteration: 0.3456694150333415\n",
      "1030-th iteration: 0.34566895047155577\n",
      "1040-th iteration: 0.3456685197874124\n",
      "1050-th iteration: 0.3456681204347225\n",
      "1060-th iteration: 0.34566775006366646\n",
      "1070-th iteration: 0.34566740650529265\n",
      "1080-th iteration: 0.34566708775726673\n",
      "1090-th iteration: 0.34566679197077127\n",
      "1100-th iteration: 0.34566651743845755\n",
      "1110-th iteration: 0.345666262583366\n",
      "1120-th iteration: 0.34566602594873247\n",
      "1130-th iteration: 0.34566580618861076\n",
      "1140-th iteration: 0.34566560205924135\n",
      "1150-th iteration: 0.3456654124111094\n",
      "1160-th iteration: 0.3456652361816308\n",
      "1170-th iteration: 0.34566507238842165\n",
      "1180-th iteration: 0.34566492012309674\n",
      "1190-th iteration: 0.3456647785455613\n",
      "1200-th iteration: 0.3456646468787495\n",
      "1210-th iteration: 0.3456645244037801\n",
      "1220-th iteration: 0.3456644104554904\n",
      "1230-th iteration: 0.3456643044183217\n",
      "1240-th iteration: 0.3456642057225257\n",
      "1250-th iteration: 0.345664113840669\n",
      "1260-th iteration: 0.345664028284408\n",
      "1270-th iteration: 0.34566394860151745\n",
      "1280-th iteration: 0.34566387437314755\n",
      "1290-th iteration: 0.34566380521129597\n",
      "1300-th iteration: 0.34566374075647416\n",
      "1310-th iteration: 0.345663680675555\n",
      "1320-th iteration: 0.3456636246597866\n",
      "1330-th iteration: 0.3456635724229587\n",
      "1340-th iteration: 0.34566352369971076\n",
      "1350-th iteration: 0.3456634782439694\n",
      "1360-th iteration: 0.3456634358275061\n",
      "1370-th iteration: 0.3456633962386056\n",
      "1380-th iteration: 0.34566335928083486\n",
      "1390-th iteration: 0.3456633247719081\n",
      "1400-th iteration: 0.3456632925426353\n",
      "1410-th iteration: 0.34566326243595424\n",
      "1420-th iteration: 0.3456632343060323\n",
      "1430-th iteration: 0.34566320801743966\n",
      "1440-th iteration: 0.34566318344438257\n",
      "1450-th iteration: 0.34566316046999623\n",
      "1460-th iteration: 0.34566313898568946\n",
      "1470-th iteration: 0.3456631188905403\n",
      "1480-th iteration: 0.34566310009073575\n",
      "1490-th iteration: 0.3456630824990541\n",
      "1500-th iteration: 0.345663066034386\n",
      "1510-th iteration: 0.34566305062129055\n",
      "1520-th iteration: 0.3456630361895869\n",
      "1530-th iteration: 0.34566302267397203\n",
      "1540-th iteration: 0.3456630100136714\n",
      "1550-th iteration: 0.3456629981521127\n",
      "1560-th iteration: 0.34566298703662474\n",
      "1570-th iteration: 0.3456629766181583\n",
      "1580-th iteration: 0.3456629668510276\n",
      "1590-th iteration: 0.3456629576926714\n",
      "1600-th iteration: 0.3456629491034304\n",
      "1610-th iteration: 0.3456629410463421\n",
      "1620-th iteration: 0.34566293348695043\n",
      "1630-th iteration: 0.3456629263931283\n",
      "1640-th iteration: 0.3456629197349147\n",
      "1650-th iteration: 0.34566291348436246\n",
      "1660-th iteration: 0.34566290761539753\n",
      "1670-th iteration: 0.34566290210368744\n",
      "1680-th iteration: 0.34566289692652186\n",
      "1690-th iteration: 0.34566289206269835\n",
      "1700-th iteration: 0.3456628874924188\n",
      "1710-th iteration: 0.3456628831971927\n",
      "1720-th iteration: 0.34566287915974603\n",
      "1730-th iteration: 0.34566287536393947\n",
      "1740-th iteration: 0.34566287179468896\n",
      "1750-th iteration: 0.3456628684378951\n",
      "1760-th iteration: 0.34566286528037504\n",
      "1770-th iteration: 0.34566286230980103\n",
      "1780-th iteration: 0.34566285951464204\n",
      "1790-th iteration: 0.3456628568841102\n",
      "1800-th iteration: 0.34566285440811106\n",
      "1810-th iteration: 0.34566285207719627\n",
      "1820-th iteration: 0.3456628498825212\n",
      "1830-th iteration: 0.34566284781580436\n",
      "1840-th iteration: 0.34566284586928964\n",
      "1850-th iteration: 0.3456628440357119\n",
      "1860-th iteration: 0.3456628423082641\n",
      "1870-th iteration: 0.3456628406805678\n",
      "1880-th iteration: 0.34566283914664403\n",
      "1890-th iteration: 0.3456628377008881\n",
      "1900-th iteration: 0.3456628363380442\n",
      "1910-th iteration: 0.3456628350531834\n",
      "1920-th iteration: 0.34566283384168184\n",
      "1930-th iteration: 0.34566283269920184\n",
      "1940-th iteration: 0.3456628316216725\n",
      "1950-th iteration: 0.3456628306052729\n",
      "1960-th iteration: 0.3456628296464164\n",
      "1970-th iteration: 0.3456628287417348\n",
      "1980-th iteration: 0.3456628278880656\n",
      "1990-th iteration: 0.3456628270824378\n"
     ]
    },
    {
     "data": {
      "image/png": "[encoded data removed]",
      "text/plain": [
       "<Figure size 432x288 with 1 Axes>"
      ]
     },
     "metadata": {
      "needs_background": "light"
     },
     "output_type": "display_data"
    }
   ],
   "source": [
    "params = fit(X, Y, learning_rate = 0.1, num_iter = 2000, debug = True)"
   ]
  },
  {
   "cell_type": "code",
   "execution_count": 23,
   "metadata": {},
   "outputs": [
    {
     "name": "stdout",
     "output_type": "stream",
     "text": [
      "{'W': array([[ 0.82584699,  1.31047276, -0.72785357, -0.87440416, -0.36752944,\n",
      "        -0.03498417, -0.2226076 ]]), 'b': -0.25443235140575227}\n"
     ]
    }
   ],
   "source": [
    "print(params)"
   ]
  },
  {
   "cell_type": "code",
   "execution_count": null,
   "metadata": {},
   "outputs": [],
   "source": []
  }
 ],
 "metadata": {
  "kernelspec": {
   "display_name": "Python 3",
   "language": "python",
   "name": "python3"
  },
  "language_info": {
   "codemirror_mode": {
    "name": "ipython",
    "version": 3
   },
   "file_extension": ".py",
   "mimetype": "text/x-python",
   "name": "python",
   "nbconvert_exporter": "python",
   "pygments_lexer": "ipython3",
   "version": "3.8.5"
  }
 },
 "nbformat": 4,
 "nbformat_minor": 1
}
